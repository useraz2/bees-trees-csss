{
  "metadata": {
    "kernelspec": {
      "name": "python",
      "display_name": "Pyolite",
      "language": "python"
    },
    "language_info": {
      "codemirror_mode": {
        "name": "python",
        "version": 3
      },
      "file_extension": ".py",
      "mimetype": "text/x-python",
      "name": "python",
      "nbconvert_exporter": "python",
      "pygments_lexer": "ipython3",
      "version": "3.8"
    }
  },
  "nbformat_minor": 4,
  "nbformat": 4,
  "cells": [
    {
      "cell_type": "markdown",
      "source": "<center>\n    <img src=\"https://cf-courses-data.s3.us.cloud-object-storage.appdomain.cloud/IBMDeveloperSkillsNetwork-DS0105EN-SkillsNetwork/labs/Module2/images/SN_web_lightmode.png\" width=\"300\" alt=\"cognitiveclass.ai logo\">\n</center>\n",
      "metadata": {}
    },
    {
      "cell_type": "markdown",
      "source": "# My Jupyter Notebook on IBM Watson Studio \n",
      "metadata": {
        "tags": []
      }
    },
    {
      "cell_type": "markdown",
      "source": "**Isaiah Bomar**\nBusiness Analyst",
      "metadata": {}
    },
    {
      "cell_type": "markdown",
      "source": "_I am interested in Data Science because informed managers can make better decisions. I desire to deliver actionable insights to internal and external clients._ ",
      "metadata": {}
    },
    {
      "cell_type": "markdown",
      "source": "### The next cell should read \"Hello World\"",
      "metadata": {
        "tags": []
      }
    },
    {
      "cell_type": "code",
      "source": "print ('Hello World')",
      "metadata": {
        "trusted": true
      },
      "execution_count": 4,
      "outputs": [
        {
          "name": "stdout",
          "text": "Hello World\n",
          "output_type": "stream"
        }
      ]
    },
    {
      "cell_type": "markdown",
      "source": "> This is a blockquote element. I believe breakfast is the most important meal of the day. I don't start with a feast, just one of my favorite grab and go items that get me day started right.\n\nA list like this of my favorite fruits \n\n1. Pears\n1. Strawberries\n1. Bananas\n\nBut this list isn't exclusive, I also like\n\n* Apples\n* Plums\n* Yogurt with berries\n",
      "metadata": {}
    }
  ]
}